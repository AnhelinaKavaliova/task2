{
  "cells": [
    {
      "cell_type": "markdown",
      "metadata": {
        "id": "view-in-github",
        "colab_type": "text"
      },
      "source": [
        "<a href=\"https://colab.research.google.com/github/AnhelinaKavaliova/task2/blob/main/assignment_numpy.ipynb\" target=\"_parent\"><img src=\"https://colab.research.google.com/assets/colab-badge.svg\" alt=\"Open In Colab\"/></a>"
      ]
    },
    {
      "cell_type": "markdown",
      "id": "d3df79dd",
      "metadata": {
        "id": "d3df79dd"
      },
      "source": [
        "## Упражнения по библиотеке Numpy"
      ]
    },
    {
      "cell_type": "code",
      "execution_count": 1,
      "id": "76b9c43b",
      "metadata": {
        "id": "76b9c43b"
      },
      "outputs": [],
      "source": [
        "import numpy as np"
      ]
    },
    {
      "cell_type": "markdown",
      "id": "03727b7c",
      "metadata": {
        "id": "03727b7c"
      },
      "source": [
        "**1.** Дан случайный массив, поменять знак у элементов, значения которых между 3 и 8"
      ]
    },
    {
      "cell_type": "code",
      "execution_count": null,
      "id": "b89a7523",
      "metadata": {
        "colab": {
          "base_uri": "https://localhost:8080/"
        },
        "id": "b89a7523",
        "outputId": "34d4442d-0cac-4ccf-f678-78bc1b98dba8"
      },
      "outputs": [
        {
          "output_type": "stream",
          "name": "stdout",
          "text": [
            "Original array:  [5 0 3 3 7 9 3 5 2 4]\n",
            "Result:  [-5  0  3  3 -7  9  3 -5  2 -4]\n"
          ]
        }
      ],
      "source": [
        "np.random.seed(0)\n",
        "arr = np.random.randint(0, 10, 10)\n",
        "print(\"Original array: \", arr)\n",
        "\n",
        "serach_ind = (arr > 3) & (arr < 8)\n",
        "arr[serach_ind] = -arr[serach_ind]\n",
        "print(\"Result: \", arr)"
      ]
    },
    {
      "cell_type": "markdown",
      "id": "5fa4abda",
      "metadata": {
        "id": "5fa4abda"
      },
      "source": [
        "**2.** Заменить максимальный элемент случайного массива на 0"
      ]
    },
    {
      "cell_type": "code",
      "execution_count": null,
      "id": "f2788a6e",
      "metadata": {
        "colab": {
          "base_uri": "https://localhost:8080/"
        },
        "id": "f2788a6e",
        "outputId": "0137a2a2-a2d6-47ba-ac7d-7267a410c8b4"
      },
      "outputs": [
        {
          "output_type": "stream",
          "name": "stdout",
          "text": [
            "[-5  0  3  3 -7  0  3 -5  2 -4]\n"
          ]
        }
      ],
      "source": [
        "arr[arr.argmax()] = 0\n",
        "print(arr)"
      ]
    },
    {
      "cell_type": "markdown",
      "id": "3cac656b",
      "metadata": {
        "id": "3cac656b"
      },
      "source": [
        "**3.** Построить прямое произведение массивов (все комбинации с каждым элементом). На вход подается двумерный массив"
      ]
    },
    {
      "cell_type": "code",
      "execution_count": null,
      "id": "3396b764",
      "metadata": {
        "colab": {
          "base_uri": "https://localhost:8080/"
        },
        "id": "3396b764",
        "outputId": "4b1c578b-a330-4b42-8081-2a508e4a410f"
      },
      "outputs": [
        {
          "output_type": "stream",
          "name": "stdout",
          "text": [
            "Original array: \n",
            " [[2 3]\n",
            " [0 7]]\n",
            "Result: \n",
            " [[2 0]\n",
            " [2 7]\n",
            " [3 0]\n",
            " [3 7]]\n"
          ]
        }
      ],
      "source": [
        "np.random.seed(24)\n",
        "array = np.random.randint(0, 10, size=(2, 2))\n",
        "print(\"Original array: \\n\", array)\n",
        "\n",
        "result = np.array(np.meshgrid(*array)).T.reshape(-1, 2)\n",
        "print(\"Result: \\n\", result)"
      ]
    },
    {
      "cell_type": "markdown",
      "id": "674c9354",
      "metadata": {
        "id": "674c9354"
      },
      "source": [
        "**4.** Даны 2 массива A (8x3) и B (2x2). Найти строки в A, которые содержат элементы из каждой строки в B, независимо от порядка элементов в B"
      ]
    },
    {
      "cell_type": "code",
      "execution_count": null,
      "id": "cb664782",
      "metadata": {
        "colab": {
          "base_uri": "https://localhost:8080/"
        },
        "id": "cb664782",
        "outputId": "5b5c30d3-c9fe-479e-a7e0-81f5deeb6aba"
      },
      "outputs": [
        {
          "output_type": "stream",
          "name": "stdout",
          "text": [
            "Array A:\n",
            " [[1 1 1]\n",
            " [0 3 3]\n",
            " [0 3 3]\n",
            " [2 3 3]\n",
            " [3 3 3]\n",
            " [3 1 2]\n",
            " [3 3 1]\n",
            " [3 1 3]]\n",
            "Array B:\n",
            " [[0 0]\n",
            " [2 0]]\n",
            "Result:\n",
            " []\n",
            "[]\n"
          ]
        }
      ],
      "source": [
        "A = np.random.randint(0, 4, size=(8, 3))\n",
        "B = np.random.randint(0, 4, size=(2, 2))\n",
        "\n",
        "print(\"Array A:\\n\", A)\n",
        "print(\"Array B:\\n\", B)\n",
        "\n",
        "rows_B = [set(row) for row in B]\n",
        "matching_rows = []\n",
        "\n",
        "for row in A:\n",
        "  row_A = set(row)\n",
        "  if all(row_A.issuperset(b_set) for b_set in rows_B):\n",
        "    matching_rows.append(row)\n",
        "\n",
        "matching_rows = np.array(matching_rows)\n",
        "print(\"Result:\\n\", matching_rows)\n",
        "print(matching_rows)"
      ]
    },
    {
      "cell_type": "markdown",
      "id": "fa46533b",
      "metadata": {
        "id": "fa46533b"
      },
      "source": [
        "**5.** Дана 10x3 матрица, найти строки из неравных значений (например строка [2,2,3] остается, строка [3,3,3] удаляется)"
      ]
    },
    {
      "cell_type": "code",
      "execution_count": null,
      "id": "fa545b23",
      "metadata": {
        "colab": {
          "base_uri": "https://localhost:8080/"
        },
        "id": "fa545b23",
        "outputId": "cfac1afb-4c11-4a6d-cc8b-f347b296d770"
      },
      "outputs": [
        {
          "output_type": "stream",
          "name": "stdout",
          "text": [
            "Original matrix: \n",
            " [[1 1 1]\n",
            " [0 1 0]\n",
            " [1 1 0]\n",
            " [0 1 0]\n",
            " [1 1 0]\n",
            " [1 0 0]\n",
            " [1 1 1]\n",
            " [1 0 1]\n",
            " [0 0 1]\n",
            " [0 1 1]]\n",
            "Result: \n",
            " [[0 1 0]\n",
            " [1 1 0]\n",
            " [0 1 0]\n",
            " [1 1 0]\n",
            " [1 0 0]\n",
            " [1 0 1]\n",
            " [0 0 1]\n",
            " [0 1 1]]\n"
          ]
        }
      ],
      "source": [
        "matrix = np.random.randint(0, 2, size=(10, 3))\n",
        "print(\"Original matrix: \\n\", matrix)\n",
        "\n",
        "#res = np.array([row for row in matrix if len(set(row)) > 1])\n",
        "unique_rows_elements_num = np.apply_along_axis(lambda row: len(np.unique(row)), 1, matrix)\n",
        "res = matrix[unique_rows_elements_num > 1]\n",
        "print(\"Result: \\n\", res)"
      ]
    },
    {
      "cell_type": "markdown",
      "id": "28f0d116",
      "metadata": {
        "id": "28f0d116"
      },
      "source": [
        "**6.** Дан двумерный массив. Удалить те строки, которые повторяются"
      ]
    },
    {
      "cell_type": "code",
      "execution_count": null,
      "id": "83d2c0b7",
      "metadata": {
        "colab": {
          "base_uri": "https://localhost:8080/"
        },
        "id": "83d2c0b7",
        "outputId": "3638fe8a-33f7-4c8b-88b6-41f73d23a75b"
      },
      "outputs": [
        {
          "output_type": "stream",
          "name": "stdout",
          "text": [
            "Original array: \n",
            " [[1 0 1]\n",
            " [0 0 1]\n",
            " [0 0 1]\n",
            " [1 0 1]\n",
            " [0 0 1]]\n",
            "Result: \n",
            " [[0 0 1]\n",
            " [1 0 1]]\n"
          ]
        }
      ],
      "source": [
        "array = np.random.randint(0, 2, size = (5, 3))\n",
        "print(\"Original array: \\n\", array)\n",
        "\n",
        "unique_rows = np.unique(array, axis=0)\n",
        "print(\"Result: \\n\", unique_rows)"
      ]
    },
    {
      "cell_type": "markdown",
      "id": "6daa9e37",
      "metadata": {
        "id": "6daa9e37"
      },
      "source": [
        "______\n",
        "______"
      ]
    },
    {
      "cell_type": "markdown",
      "id": "cfbfcaff",
      "metadata": {
        "id": "cfbfcaff"
      },
      "source": [
        "Для каждой из следующих задач (1-5) нужно привести 2 реализации – одна без использования numpy (cчитайте, что там, где на входе или выходе должны быть numpy array, будут просто списки), а вторая полностью векторизованная с использованием numpy (без использования питоновских циклов/map/list comprehension).\n",
        "\n",
        "\n",
        "__Замечание 1.__ Можно считать, что все указанные объекты непустые (к примеру, в __задаче 1__ на диагонали матрицы есть ненулевые элементы).\n",
        "\n",
        "__Замечание 2.__ Для большинства задач решение занимает не больше 1-2 строк."
      ]
    },
    {
      "cell_type": "markdown",
      "id": "673cac7f",
      "metadata": {
        "id": "673cac7f"
      },
      "source": [
        "___"
      ]
    },
    {
      "cell_type": "markdown",
      "id": "ca6f585e",
      "metadata": {
        "id": "ca6f585e"
      },
      "source": [
        "* __Задача 1__: Подсчитать произведение ненулевых элементов на диагонали прямоугольной матрицы.  \n",
        " Например, для X = np.array([[1, 0, 1], [2, 0, 2], [3, 0, 3], [4, 4, 4]]) ответ 3."
      ]
    },
    {
      "cell_type": "code",
      "source": [
        "matrix = [\n",
        "    [1, 0, 1],\n",
        "    [2, 0, 2],\n",
        "    [3, 0, 3],\n",
        "    [4, 4, 4]\n",
        "]"
      ],
      "metadata": {
        "id": "MWHqfrKRKINT"
      },
      "id": "MWHqfrKRKINT",
      "execution_count": null,
      "outputs": []
    },
    {
      "cell_type": "code",
      "execution_count": null,
      "id": "065862fc",
      "metadata": {
        "colab": {
          "base_uri": "https://localhost:8080/"
        },
        "id": "065862fc",
        "outputId": "40ef2b9c-1ced-4d1b-c85f-1948c86f90ac"
      },
      "outputs": [
        {
          "output_type": "stream",
          "name": "stdout",
          "text": [
            "Result: 3\n"
          ]
        }
      ],
      "source": [
        "rows = len(matrix)\n",
        "cols = len(matrix[0])\n",
        "result = 1\n",
        "\n",
        "for i in range(min(rows, cols)):\n",
        "  if matrix[i][i] != 0:\n",
        "    result *= matrix[i][i]\n",
        "\n",
        "print(\"Result:\", result)"
      ]
    },
    {
      "cell_type": "code",
      "source": [
        "#numpy\n",
        "X = np.array([[1, 0, 1],\n",
        "              [2, 0, 2],\n",
        "              [3, 0, 3],\n",
        "              [4, 4, 4]])"
      ],
      "metadata": {
        "id": "wVT7uUG7NOf8"
      },
      "id": "wVT7uUG7NOf8",
      "execution_count": null,
      "outputs": []
    },
    {
      "cell_type": "code",
      "source": [
        "diagonal = np.diagonal(X)\n",
        "result = np.prod(diagonal[diagonal != 0])\n",
        "\n",
        "print(\"Result:\", result)"
      ],
      "metadata": {
        "colab": {
          "base_uri": "https://localhost:8080/"
        },
        "id": "wmfs1N_ovoMm",
        "outputId": "caebb270-698b-4ae9-eed5-8e2aaebeaff1"
      },
      "id": "wmfs1N_ovoMm",
      "execution_count": null,
      "outputs": [
        {
          "output_type": "stream",
          "name": "stdout",
          "text": [
            "Result: 3\n"
          ]
        }
      ]
    },
    {
      "cell_type": "markdown",
      "id": "9fc51d41",
      "metadata": {
        "id": "9fc51d41"
      },
      "source": [
        "* __Задача 2__: Даны два вектора x и y. Проверить, задают ли они одно и то же мультимножество.  \n",
        "  Например, для x = np.array([1, 2, 2, 4]), y = np.array([4, 2, 1, 2]) ответ True."
      ]
    },
    {
      "cell_type": "code",
      "execution_count": null,
      "id": "a809e02f",
      "metadata": {
        "id": "a809e02f"
      },
      "outputs": [],
      "source": [
        "x_py = [1, 2, 2, 4]\n",
        "y_py = [4, 2, 1, 2]"
      ]
    },
    {
      "cell_type": "code",
      "source": [
        "answer = sorted(x_py) == sorted(y_py)\n",
        "print(\"Answer: \", answer)"
      ],
      "metadata": {
        "colab": {
          "base_uri": "https://localhost:8080/"
        },
        "id": "QQXlVPo3AMrS",
        "outputId": "aadfdc73-4123-4b9f-c56d-f0f763b24128"
      },
      "id": "QQXlVPo3AMrS",
      "execution_count": null,
      "outputs": [
        {
          "output_type": "stream",
          "name": "stdout",
          "text": [
            "Answer:  True\n"
          ]
        }
      ]
    },
    {
      "cell_type": "code",
      "source": [
        "#numpy\n",
        "x = np.array([1, 2, 2, 4])\n",
        "y = np.array([4, 2, 1, 2])"
      ],
      "metadata": {
        "id": "lQqTC2h0LrdI"
      },
      "id": "lQqTC2h0LrdI",
      "execution_count": null,
      "outputs": []
    },
    {
      "cell_type": "code",
      "source": [
        "answer = np.array_equal(np.sort(x), np.sort(y))\n",
        "print(\"Answer: \", answer)"
      ],
      "metadata": {
        "colab": {
          "base_uri": "https://localhost:8080/"
        },
        "id": "kaigBfL9AeQc",
        "outputId": "dc5cf0c0-77ba-4ecf-9e94-3b9a84fd0cc7"
      },
      "id": "kaigBfL9AeQc",
      "execution_count": null,
      "outputs": [
        {
          "output_type": "stream",
          "name": "stdout",
          "text": [
            "Answer:  True\n"
          ]
        }
      ]
    },
    {
      "cell_type": "markdown",
      "id": "b9c185c7",
      "metadata": {
        "id": "b9c185c7"
      },
      "source": [
        "* __Задача 3__: Найти максимальный элемент в векторе x среди элементов, перед которыми стоит ноль.\n",
        " Например, для x = np.array([6, 2, 0, 3, 0, 0, 5, 7, 0]) ответ 5."
      ]
    },
    {
      "cell_type": "code",
      "execution_count": null,
      "id": "b57df008",
      "metadata": {
        "id": "b57df008"
      },
      "outputs": [],
      "source": [
        "x_py = [6, 2, 0, 3, 0, 0, 5, 7, 0]"
      ]
    },
    {
      "cell_type": "code",
      "source": [
        "max_el = None\n",
        "for i in range(1, len(x_py)):\n",
        "  if x_py[i-1] == 0 and (max_el is None or max_el < x_py[i]):\n",
        "    max_el = x_py[i]\n",
        "\n",
        "print(\"Answer: \", max_el)"
      ],
      "metadata": {
        "colab": {
          "base_uri": "https://localhost:8080/"
        },
        "id": "RT5KrWB9ZiGv",
        "outputId": "de7c3b05-5a1f-463b-809c-43074c7bd32d"
      },
      "id": "RT5KrWB9ZiGv",
      "execution_count": null,
      "outputs": [
        {
          "output_type": "stream",
          "name": "stdout",
          "text": [
            "Answer:  5\n"
          ]
        }
      ]
    },
    {
      "cell_type": "code",
      "source": [
        "#numpy\n",
        "x = np.array([6, 2, 0, 3, 0, 0, 5, 7, 0])"
      ],
      "metadata": {
        "id": "JGWK44dnZif_"
      },
      "id": "JGWK44dnZif_",
      "execution_count": null,
      "outputs": []
    },
    {
      "cell_type": "code",
      "source": [
        "null_el_ind = np.where(x == 0)[0]\n",
        "valid_ind = null_el_ind[null_el_ind + 1 < len(x)]\n",
        "following_elements = x[valid_ind+1]\n",
        "print(\"Answer: \", np.max(following_elements))"
      ],
      "metadata": {
        "colab": {
          "base_uri": "https://localhost:8080/"
        },
        "id": "TiZ_aIBwZivP",
        "outputId": "75178704-0d12-4733-aa17-d1a9b9495739"
      },
      "id": "TiZ_aIBwZivP",
      "execution_count": null,
      "outputs": [
        {
          "output_type": "stream",
          "name": "stdout",
          "text": [
            "Answer:  5\n"
          ]
        }
      ]
    },
    {
      "cell_type": "markdown",
      "id": "480be4ce",
      "metadata": {
        "id": "480be4ce"
      },
      "source": [
        "* __Задача 4__: Реализовать кодирование длин серий (Run-length encoding). Для некоторого вектора x необходимо вернуть кортеж из двух векторов одинаковой длины. Первый содержит числа, а второй - сколько раз их нужно повторить.  \n",
        " Например, для x = np.array([2, 2, 2, 3, 3, 3, 5]) ответ (np.array([2, 3, 5]), np.array([3, 3, 1]))."
      ]
    },
    {
      "cell_type": "code",
      "execution_count": 2,
      "id": "3c592124",
      "metadata": {
        "id": "3c592124"
      },
      "outputs": [],
      "source": [
        "x_py = [2, 4, 2, 3, 3, 3, 5]"
      ]
    },
    {
      "cell_type": "code",
      "source": [
        "from itertools import groupby\n",
        "\n",
        "elements = []\n",
        "el_count = []\n",
        "\n",
        "for k, g in groupby(x_py):\n",
        "  elements.append(k)\n",
        "  el_count.append(len(list(g)))\n",
        "\n",
        "elements, el_count"
      ],
      "metadata": {
        "colab": {
          "base_uri": "https://localhost:8080/"
        },
        "id": "pkl7b-OrlRKy",
        "outputId": "d62fb29c-60ce-4134-9e10-8f410f650554"
      },
      "id": "pkl7b-OrlRKy",
      "execution_count": 3,
      "outputs": [
        {
          "output_type": "execute_result",
          "data": {
            "text/plain": [
              "([2, 4, 2, 3, 5], [1, 1, 1, 3, 1])"
            ]
          },
          "metadata": {},
          "execution_count": 3
        }
      ]
    },
    {
      "cell_type": "code",
      "source": [
        "#numpy\n",
        "x = np.array([2, 4, 2, 3, 3, 3, 5])"
      ],
      "metadata": {
        "id": "5yC2xiXklRhG"
      },
      "id": "5yC2xiXklRhG",
      "execution_count": 4,
      "outputs": []
    },
    {
      "cell_type": "code",
      "source": [
        "new_el = np.concatenate(([True], x[1:] != x[:-1]))\n",
        "indices = np.nonzero(new_el)[0]\n",
        "elements = x[indices]\n",
        "el_count = np.diff(np.concatenate((indices, [len(x)])))\n",
        "\n",
        "elements, el_count"
      ],
      "metadata": {
        "colab": {
          "base_uri": "https://localhost:8080/"
        },
        "id": "1to_tMSyb0vf",
        "outputId": "36064b35-1da9-475f-e0c5-050a475a2bc9"
      },
      "id": "1to_tMSyb0vf",
      "execution_count": 5,
      "outputs": [
        {
          "output_type": "execute_result",
          "data": {
            "text/plain": [
              "(array([2, 4, 2, 3, 5]), array([1, 1, 1, 3, 1]))"
            ]
          },
          "metadata": {},
          "execution_count": 5
        }
      ]
    },
    {
      "cell_type": "markdown",
      "id": "077532ec",
      "metadata": {
        "id": "077532ec"
      },
      "source": [
        "* __Задача 5__: Даны две выборки объектов - X и Y. Вычислить матрицу евклидовых расстояний между объектами. Сравните с функцией scipy.spatial.distance.cdist по скорости работы."
      ]
    },
    {
      "cell_type": "code",
      "execution_count": null,
      "id": "1e807797",
      "metadata": {
        "id": "1e807797"
      },
      "outputs": [],
      "source": [
        "X_py = [[1, 2], [3, 4], [9, 10]]\n",
        "Y_py = [[5, 6], [7, 8]]"
      ]
    },
    {
      "cell_type": "code",
      "source": [
        "import time\n",
        "from math import sqrt\n",
        "\n",
        "start_time = time.time()\n",
        "distances = [[0] * len(Y_py) for _ in range(len(X_py))]\n",
        "for i, x in enumerate(X_py):\n",
        "        for j, y in enumerate(Y_py):\n",
        "            distances[i][j] = sqrt(sum((xi - yi) ** 2 for xi, yi in zip(x, y)))\n",
        "\n",
        "end_time = time.time()\n",
        "\n",
        "print(\"Distance matrix:\\n\", distances)\n",
        "print(\"Execution time (without numpy):\", end_time - start_time)\n"
      ],
      "metadata": {
        "colab": {
          "base_uri": "https://localhost:8080/"
        },
        "id": "Zz9ZU-IMwqHX",
        "outputId": "6a22be3f-cdc9-4f68-cdc9-f6b06dadf358"
      },
      "id": "Zz9ZU-IMwqHX",
      "execution_count": null,
      "outputs": [
        {
          "output_type": "stream",
          "name": "stdout",
          "text": [
            "Distance matrix:\n",
            " [[5.656854249492381, 8.48528137423857], [2.8284271247461903, 5.656854249492381], [5.656854249492381, 2.8284271247461903]]\n",
            "Execution time (without numpy): 0.0002903938293457031\n"
          ]
        }
      ]
    },
    {
      "cell_type": "code",
      "source": [
        "#numpy\n",
        "X = np.array([[1, 2], [3, 4], [9, 10]])\n",
        "Y = np.array([[5, 6], [7, 8]])"
      ],
      "metadata": {
        "id": "W5vFTlEHwqfe"
      },
      "id": "W5vFTlEHwqfe",
      "execution_count": null,
      "outputs": []
    },
    {
      "cell_type": "code",
      "source": [
        "start_time = time.time()\n",
        "distances = np.sqrt(np.sum((X[:, np.newaxis] - Y) ** 2, axis=-1))\n",
        "end_time = time.time()\n",
        "print(\"Distance matrix:\\n\", distances)\n",
        "print(\"Execution time (with numpy):\", end_time - start_time)"
      ],
      "metadata": {
        "colab": {
          "base_uri": "https://localhost:8080/"
        },
        "id": "L6tI6OoJwq3F",
        "outputId": "fb36c2a1-48d4-4545-e25d-abb224ae9ea3"
      },
      "id": "L6tI6OoJwq3F",
      "execution_count": null,
      "outputs": [
        {
          "output_type": "stream",
          "name": "stdout",
          "text": [
            "Distance matrix:\n",
            " [[5.65685425 8.48528137]\n",
            " [2.82842712 5.65685425]\n",
            " [5.65685425 2.82842712]]\n",
            "Execution time (with numpy): 0.0003800392150878906\n"
          ]
        }
      ]
    },
    {
      "cell_type": "code",
      "source": [
        "from scipy.spatial.distance import cdist\n",
        "\n",
        "start_time = time.time()\n",
        "distances_scipy = cdist(X, Y, metric='euclidean')\n",
        "end_time = time.time()\n",
        "\n",
        "print(\"Distance matrix (scipy):\\n\", distances_scipy)\n",
        "print(\"Execution time (scipy cdist):\", end_time - start_time)\n"
      ],
      "metadata": {
        "colab": {
          "base_uri": "https://localhost:8080/"
        },
        "id": "BQkA4zXbISSm",
        "outputId": "e5732e20-ff44-4850-c228-c9348fcaf0ca"
      },
      "id": "BQkA4zXbISSm",
      "execution_count": null,
      "outputs": [
        {
          "output_type": "stream",
          "name": "stdout",
          "text": [
            "Distance matrix (scipy):\n",
            " [[5.65685425 8.48528137]\n",
            " [2.82842712 5.65685425]\n",
            " [5.65685425 2.82842712]]\n",
            "Execution time (scipy cdist): 0.0003712177276611328\n"
          ]
        }
      ]
    },
    {
      "cell_type": "markdown",
      "id": "973e8064",
      "metadata": {
        "id": "973e8064"
      },
      "source": [
        "_______\n",
        "________"
      ]
    },
    {
      "cell_type": "markdown",
      "id": "1104acb7",
      "metadata": {
        "id": "1104acb7"
      },
      "source": [
        "* #### __Задача 6__: CrunchieMunchies __*__\n",
        "\n",
        "Вы работаете в отделе маркетинга пищевой компании MyCrunch, которая разрабатывает новый вид вкусных, полезных злаков под названием **CrunchieMunchies**.\n",
        "\n",
        "Вы хотите продемонстрировать потребителям, насколько полезны ваши хлопья по сравнению с другими ведущими брендами, поэтому вы собрали данные о питании нескольких разных конкурентов.\n",
        "\n",
        "Ваша задача - использовать вычисления Numpy для анализа этих данных и доказать, что ваши **СrunchieMunchies** - самый здоровый выбор для потребителей.\n"
      ]
    },
    {
      "cell_type": "code",
      "execution_count": null,
      "id": "10a77f8d",
      "metadata": {
        "id": "10a77f8d"
      },
      "outputs": [],
      "source": [
        "import numpy as np"
      ]
    },
    {
      "cell_type": "markdown",
      "id": "ab87cb03",
      "metadata": {
        "id": "ab87cb03"
      },
      "source": [
        "1. Просмотрите файл cereal.csv. Этот файл содержит количества калорий для различных марок хлопьев. Загрузите данные из файла и сохраните их как calorie_stats."
      ]
    },
    {
      "cell_type": "code",
      "execution_count": null,
      "id": "9681ebf2",
      "metadata": {
        "id": "9681ebf2",
        "outputId": "56a77231-be2f-4d5d-ace3-ea11b43236a9",
        "colab": {
          "base_uri": "https://localhost:8080/"
        }
      },
      "outputs": [
        {
          "output_type": "execute_result",
          "data": {
            "text/plain": [
              "array([ 70., 120.,  70.,  50., 110., 110., 110., 130.,  90.,  90., 120.,\n",
              "       110., 120., 110., 110., 110., 100., 110., 110., 110., 100., 110.,\n",
              "       100., 100., 110., 110., 100., 120., 120., 110., 100., 110., 100.,\n",
              "       110., 120., 120., 110., 110., 110., 140., 110., 100., 110., 100.,\n",
              "       150., 150., 160., 100., 120., 140.,  90., 130., 120., 100.,  50.,\n",
              "        50., 100., 100., 120., 100.,  90., 110., 110.,  80.,  90.,  90.,\n",
              "       110., 110.,  90., 110., 140., 100., 110., 110., 100., 100., 110.])"
            ]
          },
          "metadata": {},
          "execution_count": 150
        }
      ],
      "source": [
        "calorie_stats = np.loadtxt(\"./data/cereal.csv\", delimiter=\",\")\n",
        "calorie_stats"
      ]
    },
    {
      "cell_type": "markdown",
      "id": "139cfbd8",
      "metadata": {
        "id": "139cfbd8"
      },
      "source": [
        "2. В одной порции CrunchieMunchies содержится 60 калорий. Насколько выше среднее количество калорий у ваших конкурентов?\n",
        "\n",
        "Сохраните ответ в переменной average_calories и распечатайте переменную в терминале"
      ]
    },
    {
      "cell_type": "code",
      "source": [
        "crunchie_munchies_calories = 60"
      ],
      "metadata": {
        "id": "a2THtem4glqo"
      },
      "id": "a2THtem4glqo",
      "execution_count": null,
      "outputs": []
    },
    {
      "cell_type": "code",
      "execution_count": null,
      "id": "7036d240",
      "metadata": {
        "id": "7036d240",
        "colab": {
          "base_uri": "https://localhost:8080/"
        },
        "outputId": "aa76f60e-45fd-43c5-bf9d-81ab5d6ae7d5"
      },
      "outputs": [
        {
          "output_type": "stream",
          "name": "stdout",
          "text": [
            "Average calories:  106.88311688311688\n",
            "Difference:  46.883116883116884\n"
          ]
        }
      ],
      "source": [
        "average_calories = np.average(calorie_stats)\n",
        "print(\"Average calories: \", average_calories)\n",
        "print(\"Difference: \", average_calories - crunchie_munchies_calories)"
      ]
    },
    {
      "cell_type": "markdown",
      "id": "b2ddb4cd",
      "metadata": {
        "id": "b2ddb4cd"
      },
      "source": [
        "3. Корректно ли среднее количество калорий отражает распределение набора данных? Давайте отсортируем данные и посмотрим.\n",
        "\n",
        "Отсортируйте данные и сохраните результат в переменной calorie_stats_sorted. Распечатайте отсортированную информацию"
      ]
    },
    {
      "cell_type": "code",
      "execution_count": null,
      "id": "46eeb4ed",
      "metadata": {
        "id": "46eeb4ed",
        "colab": {
          "base_uri": "https://localhost:8080/"
        },
        "outputId": "0b683d0e-6d1a-4076-8252-a73c566a9063"
      },
      "outputs": [
        {
          "output_type": "execute_result",
          "data": {
            "text/plain": [
              "array([ 50.,  50.,  50.,  70.,  70.,  80.,  90.,  90.,  90.,  90.,  90.,\n",
              "        90.,  90., 100., 100., 100., 100., 100., 100., 100., 100., 100.,\n",
              "       100., 100., 100., 100., 100., 100., 100., 100., 110., 110., 110.,\n",
              "       110., 110., 110., 110., 110., 110., 110., 110., 110., 110., 110.,\n",
              "       110., 110., 110., 110., 110., 110., 110., 110., 110., 110., 110.,\n",
              "       110., 110., 110., 110., 120., 120., 120., 120., 120., 120., 120.,\n",
              "       120., 120., 120., 130., 130., 140., 140., 140., 150., 150., 160.])"
            ]
          },
          "metadata": {},
          "execution_count": 153
        }
      ],
      "source": [
        "calorie_stats_sorted = np.sort(calorie_stats)\n",
        "calorie_stats_sorted"
      ]
    },
    {
      "cell_type": "markdown",
      "id": "4dc74116",
      "metadata": {
        "id": "4dc74116"
      },
      "source": [
        "4. Похоже, что большинство значений выше среднего. Давайте посмотрим, является ли медиана наиболее корректным показателем набора данных.\n",
        "\n",
        "Вычислите медиану набора данных и сохраните свой ответ в median_calories. Выведите медиану, чтобы вы могли видеть, как она сравнивается со средним значением."
      ]
    },
    {
      "cell_type": "code",
      "execution_count": null,
      "id": "b56627c3",
      "metadata": {
        "id": "b56627c3",
        "colab": {
          "base_uri": "https://localhost:8080/"
        },
        "outputId": "8fb3e80f-b637-4a22-a2a7-6e2aca506ab1"
      },
      "outputs": [
        {
          "output_type": "execute_result",
          "data": {
            "text/plain": [
              "110.0"
            ]
          },
          "metadata": {},
          "execution_count": 154
        }
      ],
      "source": [
        "median_calories = np.median(calorie_stats_sorted)\n",
        "median_calories"
      ]
    },
    {
      "cell_type": "markdown",
      "id": "a63ab72f",
      "metadata": {
        "id": "a63ab72f"
      },
      "source": [
        "5. В то время как медиана показывает, что по крайней мере половина наших значений составляет более 100 калорий, было бы более впечатляюще показать, что значительная часть конкурентов имеет более высокое количество калорий, чем CrunchieMunchies.\n",
        "\n",
        "Рассчитайте различные процентили и распечатайте их, пока не найдете наименьший процентиль, превышающий 60 калорий. Сохраните это значение в переменной nth_percentile."
      ]
    },
    {
      "cell_type": "code",
      "source": [
        "for p in range(1, 101):\n",
        "  percentile_value = np.percentile(calorie_stats_sorted, p)\n",
        "  if percentile_value > 60:\n",
        "      nth_percentile = p\n",
        "      break\n",
        "\n",
        "nth_percentile"
      ],
      "metadata": {
        "colab": {
          "base_uri": "https://localhost:8080/"
        },
        "id": "gwE69EeSixlO",
        "outputId": "556c57c1-ee2d-45a3-af31-8404ca6412e4"
      },
      "id": "gwE69EeSixlO",
      "execution_count": null,
      "outputs": [
        {
          "output_type": "execute_result",
          "data": {
            "text/plain": [
              "4"
            ]
          },
          "metadata": {},
          "execution_count": 155
        }
      ]
    },
    {
      "cell_type": "code",
      "source": [
        "left, right = 0, 100\n",
        "nth_percentile = None\n",
        "\n",
        "while left < right:\n",
        "  mid = (left + right) // 2\n",
        "  percentile_value = np.percentile(calorie_stats_sorted, mid)\n",
        "\n",
        "  if percentile_value > 60:\n",
        "    right = mid\n",
        "    nth_percentile = mid\n",
        "  else:\n",
        "    left = mid + 1\n",
        "\n",
        "nth_percentile"
      ],
      "metadata": {
        "colab": {
          "base_uri": "https://localhost:8080/"
        },
        "id": "8eq4dI9ChLkt",
        "outputId": "0f50c0e6-2cca-458c-9350-84fc62ff4b82"
      },
      "id": "8eq4dI9ChLkt",
      "execution_count": null,
      "outputs": [
        {
          "output_type": "execute_result",
          "data": {
            "text/plain": [
              "4"
            ]
          },
          "metadata": {},
          "execution_count": 156
        }
      ]
    },
    {
      "cell_type": "markdown",
      "id": "a2a3c5aa",
      "metadata": {
        "id": "a2a3c5aa"
      },
      "source": [
        "6. Хотя процентиль показывает нам, что у большинства конкурентов количество калорий намного выше, это неудобная концепция для использования в маркетинговых материалах.\n",
        "\n",
        "Вместо этого давайте подсчитаем процент хлопьев, в которых содержится более 60 калорий на порцию. Сохраните свой ответ в переменной more_calories и распечатайте его"
      ]
    },
    {
      "cell_type": "code",
      "execution_count": null,
      "id": "ade0f6ea",
      "metadata": {
        "id": "ade0f6ea",
        "colab": {
          "base_uri": "https://localhost:8080/"
        },
        "outputId": "1420a9d2-3501-4b68-d83f-7a2972f34cb2"
      },
      "outputs": [
        {
          "output_type": "execute_result",
          "data": {
            "text/plain": [
              "96.1038961038961"
            ]
          },
          "metadata": {},
          "execution_count": 157
        }
      ],
      "source": [
        "more_calories = [cal for cal in calorie_stats_sorted if cal > 60]\n",
        "more_calories = (len(more_calories)/len(calorie_stats_sorted))*100\n",
        "more_calories"
      ]
    },
    {
      "cell_type": "markdown",
      "id": "1735d65b",
      "metadata": {
        "id": "1735d65b"
      },
      "source": [
        "7. Это действительно высокий процент. Это будет очень полезно, когда мы будем продвигать CrunchieMunchies. Но один вопрос заключается в том, насколько велики различия в наборе данных? Можем ли мы сделать обобщение, что в большинстве злаков содержится около 100 калорий или разброс еще больше?\n",
        "\n",
        "Рассчитайте величину отклонения, найдя стандартное отклонение, Сохраните свой ответ в calorie_std и распечатайте на терминале. Как мы можем включить эту ценность в наш анализ?"
      ]
    },
    {
      "cell_type": "code",
      "execution_count": null,
      "id": "85c8df1f",
      "metadata": {
        "id": "85c8df1f",
        "colab": {
          "base_uri": "https://localhost:8080/"
        },
        "outputId": "f5a8ec06-1c0e-4834-b153-4a83c726e6ae"
      },
      "outputs": [
        {
          "output_type": "execute_result",
          "data": {
            "text/plain": [
              "19.35718533390827"
            ]
          },
          "metadata": {},
          "execution_count": 158
        }
      ],
      "source": [
        "calorie_std = np.std(calorie_stats_sorted)\n",
        "calorie_std"
      ]
    },
    {
      "cell_type": "markdown",
      "id": "037455c5",
      "metadata": {
        "id": "037455c5"
      },
      "source": [
        "8. Напишите короткий абзац, в котором кратко изложите свои выводы и то, как, по вашему мнению, эти данные могут быть использованы в интересах Mycrunch при маркетинге CrunchieMunchies."
      ]
    },
    {
      "cell_type": "markdown",
      "source": [
        "Среднее количество калорий в злаках конкурентов значительно выше, чем в CrunchieMunchies, медиана и процентили также говорят, что большинство конкурентов имеют больше калорий, что подчеркивает преимущество CrunchieMunchies с точки зрения калорийности.Данные можно использовать в маркетинге для подчеркивания низкого содержания калорий CrunchieMunchies, что делает продукт привлекательным выбором для потребителей, стремящихся к пп"
      ],
      "metadata": {
        "id": "KFxr1SSLl6Md"
      },
      "id": "KFxr1SSLl6Md"
    }
  ],
  "metadata": {
    "kernelspec": {
      "display_name": "Python 3 (ipykernel)",
      "language": "python",
      "name": "python3"
    },
    "language_info": {
      "codemirror_mode": {
        "name": "ipython",
        "version": 3
      },
      "file_extension": ".py",
      "mimetype": "text/x-python",
      "name": "python",
      "nbconvert_exporter": "python",
      "pygments_lexer": "ipython3",
      "version": "3.8.10"
    },
    "colab": {
      "provenance": [],
      "include_colab_link": true
    }
  },
  "nbformat": 4,
  "nbformat_minor": 5
}